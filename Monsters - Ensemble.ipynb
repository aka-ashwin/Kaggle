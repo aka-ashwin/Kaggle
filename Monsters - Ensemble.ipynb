{
 "cells": [
  {
   "cell_type": "code",
   "execution_count": 1,
   "metadata": {
    "collapsed": true
   },
   "outputs": [],
   "source": [
    "import numpy as np # linear algebra\n",
    "import pandas as pd # data processing, CSV file I/O (e.g. pd.read_csv)"
   ]
  },
  {
   "cell_type": "code",
   "execution_count": 3,
   "metadata": {
    "collapsed": false
   },
   "outputs": [],
   "source": [
    "#more imports; mine, not there by default on Kaggle Kernel\n",
    "import matplotlib.pyplot as plt\n",
    "\n",
    "from sklearn.linear_model import LogisticRegression\n",
    "\n",
    "from sklearn.tree import DecisionTreeClassifier\n",
    "\n",
    "from sklearn.svm import SVC\n",
    "\n",
    "from sklearn.ensemble import RandomForestClassifier\n",
    "from sklearn.ensemble import AdaBoostClassifier\n",
    "from sklearn.ensemble import VotingClassifier\n",
    "from sklearn.ensemble import GradientBoostingClassifier\n",
    "\n",
    "\n",
    "from sklearn.model_selection import validation_curve\n",
    "from sklearn.model_selection import learning_curve\n",
    "from sklearn.model_selection import cross_val_score\n",
    "from sklearn.model_selection import GridSearchCV\n",
    "\n",
    "from sklearn.decomposition import PCA\n",
    "\n",
    "from sklearn.neighbors import KNeighborsClassifier\n",
    "\n",
    "from numbers import Number"
   ]
  },
  {
   "cell_type": "code",
   "execution_count": 4,
   "metadata": {
    "collapsed": false
   },
   "outputs": [
    {
     "name": "stdout",
     "output_type": "stream",
     "text": [
      "[]\n"
     ]
    },
    {
     "data": {
      "text/html": [
       "<div>\n",
       "<table border=\"1\" class=\"dataframe\">\n",
       "  <thead>\n",
       "    <tr style=\"text-align: right;\">\n",
       "      <th></th>\n",
       "      <th>id</th>\n",
       "      <th>bone_length</th>\n",
       "      <th>rotting_flesh</th>\n",
       "      <th>hair_length</th>\n",
       "      <th>has_soul</th>\n",
       "      <th>color</th>\n",
       "      <th>type</th>\n",
       "    </tr>\n",
       "  </thead>\n",
       "  <tbody>\n",
       "    <tr>\n",
       "      <th>0</th>\n",
       "      <td>0</td>\n",
       "      <td>0.354512</td>\n",
       "      <td>0.350839</td>\n",
       "      <td>0.465761</td>\n",
       "      <td>0.781142</td>\n",
       "      <td>clear</td>\n",
       "      <td>Ghoul</td>\n",
       "    </tr>\n",
       "    <tr>\n",
       "      <th>1</th>\n",
       "      <td>1</td>\n",
       "      <td>0.575560</td>\n",
       "      <td>0.425868</td>\n",
       "      <td>0.531401</td>\n",
       "      <td>0.439899</td>\n",
       "      <td>green</td>\n",
       "      <td>Goblin</td>\n",
       "    </tr>\n",
       "    <tr>\n",
       "      <th>2</th>\n",
       "      <td>2</td>\n",
       "      <td>0.467875</td>\n",
       "      <td>0.354330</td>\n",
       "      <td>0.811616</td>\n",
       "      <td>0.791225</td>\n",
       "      <td>black</td>\n",
       "      <td>Ghoul</td>\n",
       "    </tr>\n",
       "  </tbody>\n",
       "</table>\n",
       "</div>"
      ],
      "text/plain": [
       "   id  bone_length  rotting_flesh  hair_length  has_soul  color    type\n",
       "0   0     0.354512       0.350839     0.465761  0.781142  clear   Ghoul\n",
       "1   1     0.575560       0.425868     0.531401  0.439899  green  Goblin\n",
       "2   2     0.467875       0.354330     0.811616  0.791225  black   Ghoul"
      ]
     },
     "execution_count": 4,
     "metadata": {},
     "output_type": "execute_result"
    }
   ],
   "source": [
    "df = pd.read_csv(\"./input/train.csv\")\n",
    "# print columns w nas, if any\n",
    "print(df.columns[pd.isnull(df).any()].tolist())\n",
    "#no nas\n",
    "\n",
    "df[:3]"
   ]
  },
  {
   "cell_type": "code",
   "execution_count": 5,
   "metadata": {
    "collapsed": false
   },
   "outputs": [
    {
     "data": {
      "text/html": [
       "<div>\n",
       "<table border=\"1\" class=\"dataframe\">\n",
       "  <thead>\n",
       "    <tr style=\"text-align: right;\">\n",
       "      <th></th>\n",
       "      <th>id</th>\n",
       "      <th>bone_length</th>\n",
       "      <th>rotting_flesh</th>\n",
       "      <th>hair_length</th>\n",
       "      <th>has_soul</th>\n",
       "      <th>color</th>\n",
       "      <th>type</th>\n",
       "      <th>col_blood</th>\n",
       "      <th>col_blue</th>\n",
       "      <th>col_clear</th>\n",
       "      <th>col_green</th>\n",
       "      <th>col_white</th>\n",
       "    </tr>\n",
       "  </thead>\n",
       "  <tbody>\n",
       "    <tr>\n",
       "      <th>0</th>\n",
       "      <td>0</td>\n",
       "      <td>0.354512</td>\n",
       "      <td>0.350839</td>\n",
       "      <td>0.465761</td>\n",
       "      <td>0.781142</td>\n",
       "      <td>clear</td>\n",
       "      <td>Ghoul</td>\n",
       "      <td>0.0</td>\n",
       "      <td>0.0</td>\n",
       "      <td>1.0</td>\n",
       "      <td>0.0</td>\n",
       "      <td>0.0</td>\n",
       "    </tr>\n",
       "    <tr>\n",
       "      <th>1</th>\n",
       "      <td>1</td>\n",
       "      <td>0.575560</td>\n",
       "      <td>0.425868</td>\n",
       "      <td>0.531401</td>\n",
       "      <td>0.439899</td>\n",
       "      <td>green</td>\n",
       "      <td>Goblin</td>\n",
       "      <td>0.0</td>\n",
       "      <td>0.0</td>\n",
       "      <td>0.0</td>\n",
       "      <td>1.0</td>\n",
       "      <td>0.0</td>\n",
       "    </tr>\n",
       "    <tr>\n",
       "      <th>2</th>\n",
       "      <td>2</td>\n",
       "      <td>0.467875</td>\n",
       "      <td>0.354330</td>\n",
       "      <td>0.811616</td>\n",
       "      <td>0.791225</td>\n",
       "      <td>black</td>\n",
       "      <td>Ghoul</td>\n",
       "      <td>0.0</td>\n",
       "      <td>0.0</td>\n",
       "      <td>0.0</td>\n",
       "      <td>0.0</td>\n",
       "      <td>0.0</td>\n",
       "    </tr>\n",
       "  </tbody>\n",
       "</table>\n",
       "</div>"
      ],
      "text/plain": [
       "   id  bone_length  rotting_flesh  hair_length  has_soul  color    type  \\\n",
       "0   0     0.354512       0.350839     0.465761  0.781142  clear   Ghoul   \n",
       "1   1     0.575560       0.425868     0.531401  0.439899  green  Goblin   \n",
       "2   2     0.467875       0.354330     0.811616  0.791225  black   Ghoul   \n",
       "\n",
       "   col_blood  col_blue  col_clear  col_green  col_white  \n",
       "0        0.0       0.0        1.0        0.0        0.0  \n",
       "1        0.0       0.0        0.0        1.0        0.0  \n",
       "2        0.0       0.0        0.0        0.0        0.0  "
      ]
     },
     "execution_count": 5,
     "metadata": {},
     "output_type": "execute_result"
    }
   ],
   "source": [
    "#dummy out color\n",
    "dums = pd.get_dummies(df['color'], prefix = \"col\", drop_first = True )\n",
    "df = pd.concat([df,dums], axis=1)\n",
    "df[:3]"
   ]
  },
  {
   "cell_type": "code",
   "execution_count": 6,
   "metadata": {
    "collapsed": false
   },
   "outputs": [],
   "source": [
    "inputs = [col for col in df.columns if (col !='id' and col!= 'type' and col != 'color')]\n",
    "y = df['type']"
   ]
  },
  {
   "cell_type": "code",
   "execution_count": 7,
   "metadata": {
    "collapsed": true
   },
   "outputs": [],
   "source": [
    "X = np.asarray(df[inputs])"
   ]
  },
  {
   "cell_type": "code",
   "execution_count": 36,
   "metadata": {
    "collapsed": false
   },
   "outputs": [],
   "source": [
    "#clf = AdaBoostClassifier()\n",
    "#clf = GradientBoostingClassifier(learning_rate = .01)\n",
    "#clf = VotingClassifier()\n",
    "\n",
    "\n",
    "\n",
    "# #adaboost, gbc\n",
    "# to_vary = 'n_estimators'\n",
    "# varyrange = [10,50,100,200,300,500,800,1000,2000]\n",
    "# #adaboost learn rate default: gradual increase in both scores w n; \n",
    "#     #going further there's a peak at 3500, validation accuracy ~ .69; much worse than SVC\n",
    "# #gbc learn rate default: peak at 50;going further, 20=25=30 acc ~ .74\n",
    "# #gbc learn rate .01: peak at 200, ~.7425\n",
    "# varyrange = range(130,280,25)\n",
    "# #gbc learn rate .003: peak at 300 and 500, ~.74\n",
    "\n",
    "# clf = DecisionTreeClassifier(max_depth = 6)\n",
    "# # to_vary = 'max_depth'\n",
    "# # varyrange = [2,3,4,5,6,7,8,9,10,12,15]\n",
    "# # #4 thru 8 about equal, around .67-.68\n",
    "# to_vary = 'min_impurity_split'\n",
    "# varyrange = np.arange(.03,.24,.01)\n",
    "# #should run more to get better estimate, but .18 is usually a local optimum and near the global optimum (~.68)\n",
    "\n",
    "# clf = KNeighborsClassifier()\n",
    "# to_vary = 'n_neighbors'\n",
    "# varyrange = [1,2,3,4,5,6,7,8,10,12,15,20]\n",
    "# #best at 6 neighbors, score around .69\n",
    "\n",
    "# clf = RandomForestClassifier(n_estimators = 50, max_depth = 6)\n",
    "# to_vary = 'n_estimators'\n",
    "# varyrange = [20,50,100,200]\n",
    "# to_vary = 'min_impurity_split'\n",
    "# varyrange = np.arange(.01,.24,.01)\n",
    "\n",
    "\n",
    "train_scores, test_scores = validation_curve(clf, X, y, to_vary, varyrange)\n",
    "# train_sizes, train_scores, test_scores = learning_curve(clf, X, y)\n",
    "\n",
    "\n",
    "train_avg = np.mean(train_scores, axis=1)\n",
    "test_avg = np.mean(test_scores, axis=1)\n",
    "\n",
    "plt.clf()\n",
    "plt.plot(varyrange, train_avg, color = 'k', marker = '.')\n",
    "plt.plot(varyrange, test_avg, color = 'g', marker = '.')\n",
    "# plt.plot(train_sizes, train_avg, color = 'k', marker = '.')\n",
    "# plt.plot(train_sizes, test_avg, color = 'g', marker = '.')\n",
    "\n",
    "plt.show()"
   ]
  },
  {
   "cell_type": "code",
   "execution_count": 69,
   "metadata": {
    "collapsed": false
   },
   "outputs": [
    {
     "data": {
      "text/plain": [
       "VotingClassifier(estimators=[('svm', SVC(C=232.5, cache_size=200, class_weight=None, coef0=0.0,\n",
       "  decision_function_shape=None, degree=3, gamma='auto', kernel='sigmoid',\n",
       "  max_iter=-1, probability=True, random_state=None, shrinking=True,\n",
       "  tol=0.001, verbose=False)), ('rf', RandomForestClassifier(bootstrap=True, cla...=200, presort='auto', random_state=None,\n",
       "              subsample=1.0, verbose=0, warm_start=False))],\n",
       "         n_jobs=1, voting='soft', weights=[2.5, 1.0, 1.0])"
      ]
     },
     "execution_count": 69,
     "metadata": {},
     "output_type": "execute_result"
    }
   ],
   "source": [
    "# voting classifier\n",
    "clf1 = SVC(kernel = 'sigmoid', C=232.5, probability = True)\n",
    "clf2 = RandomForestClassifier(max_depth = 6, min_impurity_split = .18)\n",
    "clf3 = GradientBoostingClassifier(learning_rate = .01, n_estimators = 200)\n",
    "clf1.fit(X,y)\n",
    "clf2.fit(X,y)\n",
    "clf3.fit(X,y)"
   ]
  },
  {
   "cell_type": "code",
   "execution_count": 82,
   "metadata": {
    "collapsed": false
   },
   "outputs": [],
   "source": [
    "# vary0s = np.arange(.7,3.5,.1)\n",
    "#max at 2.3, of around .755\n",
    "\n",
    "vary0s = np.arange(2.1,2.52,.03)\n",
    "#2.37 seems to do pretty well\n",
    "\n",
    "vary_range = [[w,1,1] for w in vary0s]\n",
    "\n",
    "\n",
    "test_avg = []\n",
    "for wts in vary_range:\n",
    "    test_scores = cross_val_score(VotingClassifier(estimators = [('svm',clf1),('rf',clf2),('gb',clf3)], weights = wts, voting = 'soft'), X, y)\n",
    "\n",
    "    test_avg.append(np.mean(test_scores))\n",
    "    \n",
    "\n",
    "plt.clf()\n",
    "plt.plot(vary0s, test_avg, color = 'g', marker = '.')\n",
    "plt.show()"
   ]
  },
  {
   "cell_type": "code",
   "execution_count": 83,
   "metadata": {
    "collapsed": false
   },
   "outputs": [
    {
     "data": {
      "text/plain": [
       "0.83557951482479786"
      ]
     },
     "execution_count": 83,
     "metadata": {},
     "output_type": "execute_result"
    }
   ],
   "source": [
    "eclf = VotingClassifier(estimators = [('svm',clf1),('rf',clf2),('gb',clf3)], weights = [2.37,1.,1.], voting = 'soft')\n",
    "eclf.fit(X,y)\n",
    "eclf.score(X,y)"
   ]
  },
  {
   "cell_type": "code",
   "execution_count": 84,
   "metadata": {
    "collapsed": true
   },
   "outputs": [],
   "source": [
    "dft = pd.read_csv(\"./input/test.csv\")\n",
    "#dummy out color\n",
    "dums = pd.get_dummies(dft['color'], prefix = \"col\", drop_first = True )\n",
    "dft = pd.concat([dft,dums], axis=1)\n",
    "Xt = np.asarray(dft[inputs])"
   ]
  },
  {
   "cell_type": "code",
   "execution_count": 59,
   "metadata": {
    "collapsed": false
   },
   "outputs": [],
   "source": [
    "# yp = clf.predict(Xt)\n",
    "# dfp = dft.copy()\n",
    "# dfp['type'] = yp"
   ]
  },
  {
   "cell_type": "code",
   "execution_count": 85,
   "metadata": {
    "collapsed": true
   },
   "outputs": [],
   "source": [
    "#ensemble\n",
    "yp = eclf.predict(Xt)\n",
    "dfp = dft.copy()\n",
    "dfp['type'] = yp"
   ]
  },
  {
   "cell_type": "code",
   "execution_count": 86,
   "metadata": {
    "collapsed": false
   },
   "outputs": [],
   "source": [
    "dfp.to_csv('softvoting4.csv', index = False, columns = ['id', 'type'])"
   ]
  },
  {
   "cell_type": "code",
   "execution_count": 87,
   "metadata": {
    "collapsed": false
   },
   "outputs": [
    {
     "data": {
      "text/html": [
       "<div>\n",
       "<table border=\"1\" class=\"dataframe\">\n",
       "  <thead>\n",
       "    <tr style=\"text-align: right;\">\n",
       "      <th></th>\n",
       "      <th>id</th>\n",
       "      <th>bone_length</th>\n",
       "      <th>rotting_flesh</th>\n",
       "      <th>hair_length</th>\n",
       "      <th>has_soul</th>\n",
       "      <th>color</th>\n",
       "      <th>col_blood</th>\n",
       "      <th>col_blue</th>\n",
       "      <th>col_clear</th>\n",
       "      <th>col_green</th>\n",
       "      <th>col_white</th>\n",
       "      <th>type</th>\n",
       "    </tr>\n",
       "  </thead>\n",
       "  <tbody>\n",
       "    <tr>\n",
       "      <th>0</th>\n",
       "      <td>3</td>\n",
       "      <td>0.471774</td>\n",
       "      <td>0.387937</td>\n",
       "      <td>0.706087</td>\n",
       "      <td>0.698537</td>\n",
       "      <td>black</td>\n",
       "      <td>0.0</td>\n",
       "      <td>0.0</td>\n",
       "      <td>0.0</td>\n",
       "      <td>0.0</td>\n",
       "      <td>0.0</td>\n",
       "      <td>Ghoul</td>\n",
       "    </tr>\n",
       "    <tr>\n",
       "      <th>1</th>\n",
       "      <td>6</td>\n",
       "      <td>0.427332</td>\n",
       "      <td>0.645024</td>\n",
       "      <td>0.565558</td>\n",
       "      <td>0.451462</td>\n",
       "      <td>white</td>\n",
       "      <td>0.0</td>\n",
       "      <td>0.0</td>\n",
       "      <td>0.0</td>\n",
       "      <td>0.0</td>\n",
       "      <td>1.0</td>\n",
       "      <td>Goblin</td>\n",
       "    </tr>\n",
       "    <tr>\n",
       "      <th>2</th>\n",
       "      <td>9</td>\n",
       "      <td>0.549602</td>\n",
       "      <td>0.491931</td>\n",
       "      <td>0.660387</td>\n",
       "      <td>0.449809</td>\n",
       "      <td>black</td>\n",
       "      <td>0.0</td>\n",
       "      <td>0.0</td>\n",
       "      <td>0.0</td>\n",
       "      <td>0.0</td>\n",
       "      <td>0.0</td>\n",
       "      <td>Ghoul</td>\n",
       "    </tr>\n",
       "  </tbody>\n",
       "</table>\n",
       "</div>"
      ],
      "text/plain": [
       "   id  bone_length  rotting_flesh  hair_length  has_soul  color  col_blood  \\\n",
       "0   3     0.471774       0.387937     0.706087  0.698537  black        0.0   \n",
       "1   6     0.427332       0.645024     0.565558  0.451462  white        0.0   \n",
       "2   9     0.549602       0.491931     0.660387  0.449809  black        0.0   \n",
       "\n",
       "   col_blue  col_clear  col_green  col_white    type  \n",
       "0       0.0        0.0        0.0        0.0   Ghoul  \n",
       "1       0.0        0.0        0.0        1.0  Goblin  \n",
       "2       0.0        0.0        0.0        0.0   Ghoul  "
      ]
     },
     "execution_count": 87,
     "metadata": {},
     "output_type": "execute_result"
    }
   ],
   "source": [
    "dfp[:3]"
   ]
  },
  {
   "cell_type": "code",
   "execution_count": 44,
   "metadata": {
    "collapsed": false
   },
   "outputs": [
    {
     "data": {
      "text/plain": [
       "0.8571428571428571"
      ]
     },
     "execution_count": 44,
     "metadata": {},
     "output_type": "execute_result"
    }
   ],
   "source": [
    "eclf.score(X,y)"
   ]
  },
  {
   "cell_type": "code",
   "execution_count": null,
   "metadata": {
    "collapsed": true
   },
   "outputs": [],
   "source": []
  }
 ],
 "metadata": {
  "kernelspec": {
   "display_name": "Python 3",
   "language": "python",
   "name": "python3"
  },
  "language_info": {
   "codemirror_mode": {
    "name": "ipython",
    "version": 3
   },
   "file_extension": ".py",
   "mimetype": "text/x-python",
   "name": "python",
   "nbconvert_exporter": "python",
   "pygments_lexer": "ipython3",
   "version": "3.5.2"
  }
 },
 "nbformat": 4,
 "nbformat_minor": 0
}
