{
 "cells": [
  {
   "cell_type": "code",
   "execution_count": 1,
   "metadata": {
    "collapsed": true
   },
   "outputs": [],
   "source": [
    "import numpy as np # linear algebra\n",
    "import pandas as pd # data processing, CSV file I/O (e.g. pd.read_csv)"
   ]
  },
  {
   "cell_type": "code",
   "execution_count": 3,
   "metadata": {
    "collapsed": true
   },
   "outputs": [],
   "source": [
    "#more imports; mine, not there by default on Kaggle Kernel\n",
    "import matplotlib.pyplot as plt\n",
    "\n",
    "from sklearn.linear_model import LogisticRegression\n",
    "\n",
    "from sklearn.tree import DecisionTreeClassifier\n",
    "\n",
    "from sklearn.svm import SVC\n",
    "\n",
    "from sklearn.ensemble import RandomForestClassifier\n",
    "from sklearn.ensemble import AdaBoostClassifier\n",
    "from sklearn.ensemble import VotingEnsemble\n",
    "\n",
    "\n",
    "from sklearn.model_selection import validation_curve\n",
    "from sklearn.model_selection import learning_curve\n",
    "from sklearn.model_selection import cross_val_score\n",
    "\n",
    "from sklearn.metrics import make_scorer\n",
    "mae_scoring = make_scorer(mean_absolute_error)\n",
    "\n",
    "from sklearn.decomposition import PCA\n",
    "\n",
    "from sklearn.neighbors import KNeighborsClassifier\n",
    "\n",
    "from numbers import Number"
   ]
  },
  {
   "cell_type": "code",
   "execution_count": 8,
   "metadata": {
    "collapsed": false
   },
   "outputs": [
    {
     "name": "stdout",
     "output_type": "stream",
     "text": [
      "[]\n"
     ]
    },
    {
     "data": {
      "text/html": [
       "<div>\n",
       "<table border=\"1\" class=\"dataframe\">\n",
       "  <thead>\n",
       "    <tr style=\"text-align: right;\">\n",
       "      <th></th>\n",
       "      <th>id</th>\n",
       "      <th>bone_length</th>\n",
       "      <th>rotting_flesh</th>\n",
       "      <th>hair_length</th>\n",
       "      <th>has_soul</th>\n",
       "      <th>color</th>\n",
       "      <th>type</th>\n",
       "    </tr>\n",
       "  </thead>\n",
       "  <tbody>\n",
       "    <tr>\n",
       "      <th>0</th>\n",
       "      <td>0</td>\n",
       "      <td>0.354512</td>\n",
       "      <td>0.350839</td>\n",
       "      <td>0.465761</td>\n",
       "      <td>0.781142</td>\n",
       "      <td>clear</td>\n",
       "      <td>Ghoul</td>\n",
       "    </tr>\n",
       "    <tr>\n",
       "      <th>1</th>\n",
       "      <td>1</td>\n",
       "      <td>0.575560</td>\n",
       "      <td>0.425868</td>\n",
       "      <td>0.531401</td>\n",
       "      <td>0.439899</td>\n",
       "      <td>green</td>\n",
       "      <td>Goblin</td>\n",
       "    </tr>\n",
       "    <tr>\n",
       "      <th>2</th>\n",
       "      <td>2</td>\n",
       "      <td>0.467875</td>\n",
       "      <td>0.354330</td>\n",
       "      <td>0.811616</td>\n",
       "      <td>0.791225</td>\n",
       "      <td>black</td>\n",
       "      <td>Ghoul</td>\n",
       "    </tr>\n",
       "  </tbody>\n",
       "</table>\n",
       "</div>"
      ],
      "text/plain": [
       "   id  bone_length  rotting_flesh  hair_length  has_soul  color    type\n",
       "0   0     0.354512       0.350839     0.465761  0.781142  clear   Ghoul\n",
       "1   1     0.575560       0.425868     0.531401  0.439899  green  Goblin\n",
       "2   2     0.467875       0.354330     0.811616  0.791225  black   Ghoul"
      ]
     },
     "execution_count": 8,
     "metadata": {},
     "output_type": "execute_result"
    }
   ],
   "source": [
    "df = pd.read_csv(\"./input/train.csv\")\n",
    "# print columns w nas, if any\n",
    "print(df.columns[pd.isnull(df).any()].tolist())\n",
    "#no nas\n",
    "\n",
    "df[:3]"
   ]
  },
  {
   "cell_type": "code",
   "execution_count": 9,
   "metadata": {
    "collapsed": false
   },
   "outputs": [
    {
     "data": {
      "text/html": [
       "<div>\n",
       "<table border=\"1\" class=\"dataframe\">\n",
       "  <thead>\n",
       "    <tr style=\"text-align: right;\">\n",
       "      <th></th>\n",
       "      <th>id</th>\n",
       "      <th>bone_length</th>\n",
       "      <th>rotting_flesh</th>\n",
       "      <th>hair_length</th>\n",
       "      <th>has_soul</th>\n",
       "      <th>color</th>\n",
       "      <th>type</th>\n",
       "      <th>col_blood</th>\n",
       "      <th>col_blue</th>\n",
       "      <th>col_clear</th>\n",
       "      <th>col_green</th>\n",
       "      <th>col_white</th>\n",
       "    </tr>\n",
       "  </thead>\n",
       "  <tbody>\n",
       "    <tr>\n",
       "      <th>0</th>\n",
       "      <td>0</td>\n",
       "      <td>0.354512</td>\n",
       "      <td>0.350839</td>\n",
       "      <td>0.465761</td>\n",
       "      <td>0.781142</td>\n",
       "      <td>clear</td>\n",
       "      <td>Ghoul</td>\n",
       "      <td>0.0</td>\n",
       "      <td>0.0</td>\n",
       "      <td>1.0</td>\n",
       "      <td>0.0</td>\n",
       "      <td>0.0</td>\n",
       "    </tr>\n",
       "    <tr>\n",
       "      <th>1</th>\n",
       "      <td>1</td>\n",
       "      <td>0.575560</td>\n",
       "      <td>0.425868</td>\n",
       "      <td>0.531401</td>\n",
       "      <td>0.439899</td>\n",
       "      <td>green</td>\n",
       "      <td>Goblin</td>\n",
       "      <td>0.0</td>\n",
       "      <td>0.0</td>\n",
       "      <td>0.0</td>\n",
       "      <td>1.0</td>\n",
       "      <td>0.0</td>\n",
       "    </tr>\n",
       "    <tr>\n",
       "      <th>2</th>\n",
       "      <td>2</td>\n",
       "      <td>0.467875</td>\n",
       "      <td>0.354330</td>\n",
       "      <td>0.811616</td>\n",
       "      <td>0.791225</td>\n",
       "      <td>black</td>\n",
       "      <td>Ghoul</td>\n",
       "      <td>0.0</td>\n",
       "      <td>0.0</td>\n",
       "      <td>0.0</td>\n",
       "      <td>0.0</td>\n",
       "      <td>0.0</td>\n",
       "    </tr>\n",
       "    <tr>\n",
       "      <th>3</th>\n",
       "      <td>4</td>\n",
       "      <td>0.776652</td>\n",
       "      <td>0.508723</td>\n",
       "      <td>0.636766</td>\n",
       "      <td>0.884464</td>\n",
       "      <td>black</td>\n",
       "      <td>Ghoul</td>\n",
       "      <td>0.0</td>\n",
       "      <td>0.0</td>\n",
       "      <td>0.0</td>\n",
       "      <td>0.0</td>\n",
       "      <td>0.0</td>\n",
       "    </tr>\n",
       "    <tr>\n",
       "      <th>4</th>\n",
       "      <td>5</td>\n",
       "      <td>0.566117</td>\n",
       "      <td>0.875862</td>\n",
       "      <td>0.418594</td>\n",
       "      <td>0.636438</td>\n",
       "      <td>green</td>\n",
       "      <td>Ghost</td>\n",
       "      <td>0.0</td>\n",
       "      <td>0.0</td>\n",
       "      <td>0.0</td>\n",
       "      <td>1.0</td>\n",
       "      <td>0.0</td>\n",
       "    </tr>\n",
       "    <tr>\n",
       "      <th>5</th>\n",
       "      <td>7</td>\n",
       "      <td>0.405680</td>\n",
       "      <td>0.253277</td>\n",
       "      <td>0.441420</td>\n",
       "      <td>0.280324</td>\n",
       "      <td>green</td>\n",
       "      <td>Goblin</td>\n",
       "      <td>0.0</td>\n",
       "      <td>0.0</td>\n",
       "      <td>0.0</td>\n",
       "      <td>1.0</td>\n",
       "      <td>0.0</td>\n",
       "    </tr>\n",
       "    <tr>\n",
       "      <th>6</th>\n",
       "      <td>8</td>\n",
       "      <td>0.399331</td>\n",
       "      <td>0.568952</td>\n",
       "      <td>0.618391</td>\n",
       "      <td>0.467901</td>\n",
       "      <td>white</td>\n",
       "      <td>Goblin</td>\n",
       "      <td>0.0</td>\n",
       "      <td>0.0</td>\n",
       "      <td>0.0</td>\n",
       "      <td>0.0</td>\n",
       "      <td>1.0</td>\n",
       "    </tr>\n",
       "    <tr>\n",
       "      <th>7</th>\n",
       "      <td>11</td>\n",
       "      <td>0.516224</td>\n",
       "      <td>0.536429</td>\n",
       "      <td>0.612776</td>\n",
       "      <td>0.468048</td>\n",
       "      <td>clear</td>\n",
       "      <td>Ghoul</td>\n",
       "      <td>0.0</td>\n",
       "      <td>0.0</td>\n",
       "      <td>1.0</td>\n",
       "      <td>0.0</td>\n",
       "      <td>0.0</td>\n",
       "    </tr>\n",
       "    <tr>\n",
       "      <th>8</th>\n",
       "      <td>12</td>\n",
       "      <td>0.314295</td>\n",
       "      <td>0.671280</td>\n",
       "      <td>0.417267</td>\n",
       "      <td>0.227548</td>\n",
       "      <td>blue</td>\n",
       "      <td>Ghost</td>\n",
       "      <td>0.0</td>\n",
       "      <td>1.0</td>\n",
       "      <td>0.0</td>\n",
       "      <td>0.0</td>\n",
       "      <td>0.0</td>\n",
       "    </tr>\n",
       "    <tr>\n",
       "      <th>9</th>\n",
       "      <td>19</td>\n",
       "      <td>0.280942</td>\n",
       "      <td>0.701457</td>\n",
       "      <td>0.179633</td>\n",
       "      <td>0.141183</td>\n",
       "      <td>white</td>\n",
       "      <td>Ghost</td>\n",
       "      <td>0.0</td>\n",
       "      <td>0.0</td>\n",
       "      <td>0.0</td>\n",
       "      <td>0.0</td>\n",
       "      <td>1.0</td>\n",
       "    </tr>\n",
       "  </tbody>\n",
       "</table>\n",
       "</div>"
      ],
      "text/plain": [
       "   id  bone_length  rotting_flesh  hair_length  has_soul  color    type  \\\n",
       "0   0     0.354512       0.350839     0.465761  0.781142  clear   Ghoul   \n",
       "1   1     0.575560       0.425868     0.531401  0.439899  green  Goblin   \n",
       "2   2     0.467875       0.354330     0.811616  0.791225  black   Ghoul   \n",
       "3   4     0.776652       0.508723     0.636766  0.884464  black   Ghoul   \n",
       "4   5     0.566117       0.875862     0.418594  0.636438  green   Ghost   \n",
       "5   7     0.405680       0.253277     0.441420  0.280324  green  Goblin   \n",
       "6   8     0.399331       0.568952     0.618391  0.467901  white  Goblin   \n",
       "7  11     0.516224       0.536429     0.612776  0.468048  clear   Ghoul   \n",
       "8  12     0.314295       0.671280     0.417267  0.227548   blue   Ghost   \n",
       "9  19     0.280942       0.701457     0.179633  0.141183  white   Ghost   \n",
       "\n",
       "   col_blood  col_blue  col_clear  col_green  col_white  \n",
       "0        0.0       0.0        1.0        0.0        0.0  \n",
       "1        0.0       0.0        0.0        1.0        0.0  \n",
       "2        0.0       0.0        0.0        0.0        0.0  \n",
       "3        0.0       0.0        0.0        0.0        0.0  \n",
       "4        0.0       0.0        0.0        1.0        0.0  \n",
       "5        0.0       0.0        0.0        1.0        0.0  \n",
       "6        0.0       0.0        0.0        0.0        1.0  \n",
       "7        0.0       0.0        1.0        0.0        0.0  \n",
       "8        0.0       1.0        0.0        0.0        0.0  \n",
       "9        0.0       0.0        0.0        0.0        1.0  "
      ]
     },
     "execution_count": 9,
     "metadata": {},
     "output_type": "execute_result"
    }
   ],
   "source": [
    "#dummy out color\n",
    "dums = pd.get_dummies(df['color'], prefix = \"col\", drop_first = True )\n",
    "df = pd.concat([df,dums], axis=1)\n",
    "df[:10]"
   ]
  },
  {
   "cell_type": "code",
   "execution_count": 11,
   "metadata": {
    "collapsed": false
   },
   "outputs": [],
   "source": [
    "inputs = [col for col in df.columns if (col !='id' and col!= 'type' and col != 'color')]\n",
    "y = df['type']"
   ]
  },
  {
   "cell_type": "code",
   "execution_count": 12,
   "metadata": {
    "collapsed": true
   },
   "outputs": [],
   "source": [
    "X = np.asarray(df[inputs])"
   ]
  },
  {
   "cell_type": "code",
   "execution_count": 42,
   "metadata": {
    "collapsed": false
   },
   "outputs": [],
   "source": [
    "from sklearn\n",
    "#clf = AdaBoostClassifier(DecisionTreeClassifier(max_depth=1),n_estimators = 100)\n",
    "#clf = RandomForestClassifier(n_estimators=300, max_depth = 9)\n",
    "clf = SVC(kernel='sigmoid')\n",
    "to_vary = 'C'\n",
    "varyrange = [.01,.03,.1,.3,1,3,10,30,60,100,300,1000]\n",
    "#for rbf kernel, fairly sharp peak at 10\n",
    "# varyrange = range(5,50,5)\n",
    "#still 10\n",
    "#for sigmoid kernel, less-sharp peaks at 60 (and 300)\n",
    "varyrange = range(30,150,10)\n",
    "#peaks 30, 150\n",
    "varyrange = range(22,42,2)\n",
    "varyrange = range(110,200,10)\n",
    "varyrange = range(100,1000,10)\n",
    "#peak at 230\n",
    "varyrange = range(200,300)\n",
    "#best = tie between 232 and 233\n",
    "\n",
    "# to_vary = 'min_impurity_split'\n",
    "# varyrange = np.arange(.03,.24,.03)\n",
    "\n",
    "# to_vary = 'max_depth'\n",
    "# varyrange = range(1,15)\n",
    "\n",
    "\n",
    "train_scores, test_scores = validation_curve(clf, X, y, to_vary, varyrange)\n",
    "# train_sizes, train_scores, test_scores = learning_curve(clf, X, y)\n",
    "\n",
    "\n",
    "train_avg = np.mean(train_scores, axis=1)\n",
    "test_avg = np.mean(test_scores, axis=1)\n",
    "\n",
    "plt.clf()\n",
    "plt.plot(varyrange, train_avg, color = 'k', marker = '.')\n",
    "plt.plot(varyrange, test_avg, color = 'g', marker = '.')\n",
    "# plt.plot(train_sizes, train_avg, color = 'k', marker = '.')\n",
    "# plt.plot(train_sizes, test_avg, color = 'g', marker = '.')\n",
    "\n",
    "plt.show()"
   ]
  },
  {
   "cell_type": "code",
   "execution_count": 45,
   "metadata": {
    "collapsed": false
   },
   "outputs": [
    {
     "data": {
      "text/plain": [
       "0.77358490566037741"
      ]
     },
     "execution_count": 45,
     "metadata": {},
     "output_type": "execute_result"
    }
   ],
   "source": [
    "clf = SVC(kernel='sigmoid', C = 232.5)\n",
    "clf.fit(X,y)\n",
    "clf.score(X,y)"
   ]
  },
  {
   "cell_type": "code",
   "execution_count": 58,
   "metadata": {
    "collapsed": true
   },
   "outputs": [],
   "source": [
    "dft = pd.read_csv(\"./input/test.csv\")\n",
    "#dummy out color\n",
    "dums = pd.get_dummies(dft['color'], prefix = \"col\", drop_first = True )\n",
    "dft = pd.concat([dft,dums], axis=1)\n",
    "Xt = np.asarray(dft[inputs])"
   ]
  },
  {
   "cell_type": "code",
   "execution_count": 59,
   "metadata": {
    "collapsed": false
   },
   "outputs": [],
   "source": [
    "yp = clf.predict(Xt)\n",
    "dfp = dft.copy()\n",
    "dfp['class'] = yp"
   ]
  },
  {
   "cell_type": "code",
   "execution_count": 62,
   "metadata": {
    "collapsed": false
   },
   "outputs": [],
   "source": [
    "dfp.to_csv('svc2.csv', index = False, columns = ['id', 'type'])"
   ]
  },
  {
   "cell_type": "code",
   "execution_count": 61,
   "metadata": {
    "collapsed": false
   },
   "outputs": [
    {
     "data": {
      "text/html": [
       "<div>\n",
       "<table border=\"1\" class=\"dataframe\">\n",
       "  <thead>\n",
       "    <tr style=\"text-align: right;\">\n",
       "      <th></th>\n",
       "      <th>id</th>\n",
       "      <th>bone_length</th>\n",
       "      <th>rotting_flesh</th>\n",
       "      <th>hair_length</th>\n",
       "      <th>has_soul</th>\n",
       "      <th>color</th>\n",
       "      <th>col_blood</th>\n",
       "      <th>col_blue</th>\n",
       "      <th>col_clear</th>\n",
       "      <th>col_green</th>\n",
       "      <th>col_white</th>\n",
       "      <th>class</th>\n",
       "    </tr>\n",
       "  </thead>\n",
       "  <tbody>\n",
       "    <tr>\n",
       "      <th>0</th>\n",
       "      <td>3</td>\n",
       "      <td>0.471774</td>\n",
       "      <td>0.387937</td>\n",
       "      <td>0.706087</td>\n",
       "      <td>0.698537</td>\n",
       "      <td>black</td>\n",
       "      <td>0.0</td>\n",
       "      <td>0.0</td>\n",
       "      <td>0.0</td>\n",
       "      <td>0.0</td>\n",
       "      <td>0.0</td>\n",
       "      <td>Ghoul</td>\n",
       "    </tr>\n",
       "    <tr>\n",
       "      <th>1</th>\n",
       "      <td>6</td>\n",
       "      <td>0.427332</td>\n",
       "      <td>0.645024</td>\n",
       "      <td>0.565558</td>\n",
       "      <td>0.451462</td>\n",
       "      <td>white</td>\n",
       "      <td>0.0</td>\n",
       "      <td>0.0</td>\n",
       "      <td>0.0</td>\n",
       "      <td>0.0</td>\n",
       "      <td>1.0</td>\n",
       "      <td>Goblin</td>\n",
       "    </tr>\n",
       "    <tr>\n",
       "      <th>2</th>\n",
       "      <td>9</td>\n",
       "      <td>0.549602</td>\n",
       "      <td>0.491931</td>\n",
       "      <td>0.660387</td>\n",
       "      <td>0.449809</td>\n",
       "      <td>black</td>\n",
       "      <td>0.0</td>\n",
       "      <td>0.0</td>\n",
       "      <td>0.0</td>\n",
       "      <td>0.0</td>\n",
       "      <td>0.0</td>\n",
       "      <td>Ghoul</td>\n",
       "    </tr>\n",
       "  </tbody>\n",
       "</table>\n",
       "</div>"
      ],
      "text/plain": [
       "   id  bone_length  rotting_flesh  hair_length  has_soul  color  col_blood  \\\n",
       "0   3     0.471774       0.387937     0.706087  0.698537  black        0.0   \n",
       "1   6     0.427332       0.645024     0.565558  0.451462  white        0.0   \n",
       "2   9     0.549602       0.491931     0.660387  0.449809  black        0.0   \n",
       "\n",
       "   col_blue  col_clear  col_green  col_white   class  \n",
       "0       0.0        0.0        0.0        0.0   Ghoul  \n",
       "1       0.0        0.0        0.0        1.0  Goblin  \n",
       "2       0.0        0.0        0.0        0.0   Ghoul  "
      ]
     },
     "execution_count": 61,
     "metadata": {},
     "output_type": "execute_result"
    }
   ],
   "source": [
    "dfp[:3]"
   ]
  },
  {
   "cell_type": "code",
   "execution_count": null,
   "metadata": {
    "collapsed": true
   },
   "outputs": [],
   "source": []
  }
 ],
 "metadata": {
  "kernelspec": {
   "display_name": "Python 3",
   "language": "python",
   "name": "python3"
  },
  "language_info": {
   "codemirror_mode": {
    "name": "ipython",
    "version": 3
   },
   "file_extension": ".py",
   "mimetype": "text/x-python",
   "name": "python",
   "nbconvert_exporter": "python",
   "pygments_lexer": "ipython3",
   "version": "3.5.2"
  }
 },
 "nbformat": 4,
 "nbformat_minor": 0
}
